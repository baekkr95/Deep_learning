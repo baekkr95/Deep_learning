{
 "cells": [
  {
   "cell_type": "code",
   "execution_count": 2,
   "metadata": {},
   "outputs": [],
   "source": [
    "import torch\n",
    "import torch.nn as nn\n",
    "import torchvision\n",
    "import torchvision.transforms as transforms\n",
    "\n",
    "from matplotlib import pyplot as plt\n",
    "import numpy as np"
   ]
  },
  {
   "cell_type": "code",
   "execution_count": 24,
   "metadata": {},
   "outputs": [],
   "source": [
    "device = torch.device('cuda' if torch.cuda.is_available() else 'cpu')"
   ]
  },
  {
   "cell_type": "code",
   "execution_count": 22,
   "metadata": {},
   "outputs": [],
   "source": [
    "input_size = 784\n",
    "hidden_size = 500\n",
    "num_classes = 10\n",
    "num_epochs = 5\n",
    "batch_size = 64\n",
    "learning_rate = 0.001"
   ]
  },
  {
   "cell_type": "code",
   "execution_count": 14,
   "metadata": {},
   "outputs": [],
   "source": [
    "train_dataset = torchvision.datasets.MNIST(root='../../data', \n",
    "                                           train=True, \n",
    "                                           transform=transforms.ToTensor(),  \n",
    "                                           download=True)\n",
    "\n",
    "test_dataset = torchvision.datasets.MNIST(root='../../data', \n",
    "                                          train=False, \n",
    "                                          transform=transforms.ToTensor())"
   ]
  },
  {
   "cell_type": "code",
   "execution_count": 17,
   "metadata": {},
   "outputs": [
    {
     "data": {
      "image/png": "[encoded data removed]",
      "text/plain": [
       "<Figure size 432x288 with 10 Axes>"
      ]
     },
     "metadata": {},
     "output_type": "display_data"
    }
   ],
   "source": [
    "fig = plt.figure()\n",
    " \n",
    "for i in range(10):\n",
    "    # 2x5 그리드에 i+1번째 subplot을 추가하고 얻어옴\n",
    "    subplot = fig.add_subplot(2, 5, i + 1)\n",
    "\n",
    "    # x, y 축의 지점 표시를 안함\n",
    "    subplot.set_xticks([])\n",
    "    subplot.set_yticks([])\n",
    "\n",
    "    # subplot의 제목을 i번째 결과에 해당하는 숫자로 설정\n",
    "    subplot.set_title('%d' % train_dataset[i][1])\n",
    "\n",
    "    # 입력으로 사용한 i번째 테스트 이미지를 28x28로 재배열하고\n",
    "    # 이 2차원 배열을 그레이스케일 이미지로 출력\n",
    "    subplot.imshow(train_dataset[i][0].squeeze().numpy(), cmap='gray')\n",
    "\n",
    "plt.show()"
   ]
  },
  {
   "cell_type": "code",
   "execution_count": 33,
   "metadata": {},
   "outputs": [],
   "source": [
    "# Data loader\n",
    "train_loader = torch.utils.data.DataLoader(dataset=train_dataset, \n",
    "                                           batch_size=batch_size, \n",
    "                                           shuffle=True)\n",
    "\n",
    "test_loader = torch.utils.data.DataLoader(dataset=test_dataset, \n",
    "                                          batch_size=batch_size, \n",
    "                                          shuffle=False)"
   ]
  },
  {
   "cell_type": "code",
   "execution_count": 51,
   "metadata": {},
   "outputs": [],
   "source": [
    "class NeuralNet(nn.Module):\n",
    "    def __init__(self, input_size, hidden_size, num_classes):\n",
    "        super(NeuralNet, self).__init__()\n",
    "        self.fc1 = nn.Linear(input_size, hidden_size) \n",
    "        self.fc2 = nn.Linear(hidden_size, hidden_size)\n",
    "        self.fc3 = nn.Linear(hidden_size, num_classes)  \n",
    "        self.relu = nn.ReLU()\n",
    "        \n",
    "    def forward(self, x):\n",
    "        out = self.relu(self.fc1(x))\n",
    "        out = self.relu(self.fc2(x))\n",
    "        out = self.fc3(x)\n",
    "        return out\n",
    "\n",
    "model = NeuralNet(input_size, hidden_size, num_classes).to(device)"
   ]
  },
  {
   "cell_type": "code",
   "execution_count": 52,
   "metadata": {},
   "outputs": [],
   "source": [
    "criterion = nn.CrossEntropyLoss()\n",
    "optimizer = torch.optim.SGD(model.parameters(), lr=learning_rate)  "
   ]
  },
  {
   "cell_type": "code",
   "execution_count": 48,
   "metadata": {},
   "outputs": [
    {
     "name": "stdout",
     "output_type": "stream",
     "text": [
      "Epoch [1/5], Loss: 0.8980\n",
      "Accuracy of the network on the 10000 test images: 84.03 %\n",
      "Epoch [2/5], Loss: 0.8418\n",
      "Accuracy of the network on the 10000 test images: 84.88 %\n",
      "Epoch [3/5], Loss: 0.7965\n",
      "Accuracy of the network on the 10000 test images: 85.76 %\n",
      "Epoch [4/5], Loss: 0.7589\n",
      "Accuracy of the network on the 10000 test images: 86.35 %\n",
      "Epoch [5/5], Loss: 0.7273\n",
      "Accuracy of the network on the 10000 test images: 87.03 %\n",
      "Epoch [6/5], Loss: 0.7003\n",
      "Accuracy of the network on the 10000 test images: 87.55 %\n",
      "Epoch [7/5], Loss: 0.6769\n",
      "Accuracy of the network on the 10000 test images: 87.99 %\n",
      "Epoch [8/5], Loss: 0.6563\n",
      "Accuracy of the network on the 10000 test images: 88.22 %\n",
      "Epoch [9/5], Loss: 0.6381\n",
      "Accuracy of the network on the 10000 test images: 88.52 %\n",
      "Epoch [10/5], Loss: 0.6218\n",
      "Accuracy of the network on the 10000 test images: 88.81 %\n"
     ]
    }
   ],
   "source": [
    "# Train the model\n",
    "train_loss = []\n",
    "for epoch in range(10):\n",
    "    for i, (images, labels) in enumerate(train_loader):  \n",
    "        # Move tensors to the configured device\n",
    "        images = images.reshape(-1, 28*28).to(device)\n",
    "        labels = labels.to(device)\n",
    "        \n",
    "        # Forward pass\n",
    "        outputs = model(images)\n",
    "        loss = criterion(outputs, labels)\n",
    "        \n",
    "        # Backward and optimize\n",
    "        optimizer.zero_grad()\n",
    "       \n",
    "        loss.backward()\n",
    "       \n",
    "        optimizer.step()\n",
    "        \n",
    "        train_loss.append(loss.item())\n",
    "    \n",
    "    print ('Epoch [{}/{}], Loss: {:.4f}' \n",
    "           .format(epoch+1, num_epochs, sum(train_loss)/len(train_loss)))\n",
    "    \n",
    "    with torch.no_grad():\n",
    "        correct = 0\n",
    "        total = 0\n",
    "        for images, labels in test_loader:\n",
    "            images = images.reshape(-1, 28*28).to(device)\n",
    "            labels = labels.to(device)\n",
    "            outputs = model(images)\n",
    "            _, predicted = torch.max(outputs.data, 1)\n",
    "            total += labels.size(0)\n",
    "            correct += (predicted == labels).sum().item()\n",
    "\n",
    "        print('Accuracy of the network on the 10000 test images: {} %'.format(100 * correct / total))"
   ]
  },
  {
   "cell_type": "code",
   "execution_count": 49,
   "metadata": {},
   "outputs": [],
   "source": [
    "bad_prediction = []\n",
    "with torch.no_grad():\n",
    "    for images, labels in test_loader:\n",
    "        images = images.reshape(-1, 28*28).to(device)\n",
    "        labels = labels.to(device)\n",
    "        outputs = model(images)\n",
    "        _, predicted = torch.max(outputs.data, 1)\n",
    "        for i in range(len(predicted)):\n",
    "            if predicted[i] != labels[i]:\n",
    "                bad_prediction.append([images[i].numpy(), predicted[i], labels[i]])"
   ]
  },
  {
   "cell_type": "code",
   "execution_count": 50,
   "metadata": {},
   "outputs": [
    {
     "data": {
      "image/png": "[encoded data removed]",
      "text/plain": [
       "<Figure size 432x288 with 10 Axes>"
      ]
     },
     "metadata": {},
     "output_type": "display_data"
    }
   ],
   "source": [
    "fig = plt.figure()\n",
    " \n",
    "for i in range(10):\n",
    "    # 2x5 그리드에 i+1번째 subplot을 추가하고 얻어옴\n",
    "    subplot = fig.add_subplot(2, 5, i + 1)\n",
    "\n",
    "    # x, y 축의 지점 표시를 안함\n",
    "    subplot.set_xticks([])\n",
    "    subplot.set_yticks([])\n",
    "\n",
    "    # subplot의 제목을 i번째 결과에 해당하는 숫자로 설정\n",
    "    subplot.set_title(f'{bad_prediction[i][1]}, {bad_prediction[i][2]}')\n",
    "\n",
    "    # 입력으로 사용한 i번째 테스트 이미지를 28x28로 재배열하고\n",
    "    # 이 2차원 배열을 그레이스케일 이미지로 출력\n",
    "    subplot.imshow(bad_prediction[i][0].reshape(28, 28), cmap='gray')\n",
    "\n",
    "plt.show()"
   ]
  },
  {
   "cell_type": "code",
   "execution_count": null,
   "metadata": {},
   "outputs": [],
   "source": []
  }
 ],
 "metadata": {
  "kernelspec": {
   "display_name": "Python 3",
   "language": "python",
   "name": "python3"
  },
  "language_info": {
   "codemirror_mode": {
    "name": "ipython",
    "version": 3
   },
   "file_extension": ".py",
   "mimetype": "text/x-python",
   "name": "python",
   "nbconvert_exporter": "python",
   "pygments_lexer": "ipython3",
   "version": "3.7.4"
  }
 },
 "nbformat": 4,
 "nbformat_minor": 2
}
